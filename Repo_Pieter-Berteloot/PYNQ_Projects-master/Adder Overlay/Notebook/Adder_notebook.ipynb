{
 "cells": [
  {
   "cell_type": "markdown",
   "metadata": {},
   "source": [
    "# Adder Notebook [2.3]\n",
    "The adder overlay is tested in this notebook. All code can be found in the github repo\n",
    "\n",
    "https://github.com/Pieter-Berteloot/PYNQ_Projects/tree/master/Adder%20Overlay\n",
    "\n",
    "I recommend making your own bit and tcl file else they can be found in the Overlay directory of this project."
   ]
  },
  {
   "cell_type": "markdown",
   "metadata": {},
   "source": [
    "## Importing the adder overlay"
   ]
  },
  {
   "cell_type": "code",
   "execution_count": 3,
   "metadata": {},
   "outputs": [],
   "source": [
    "from pynq import Overlay\n",
    "from pynq import MMIO\n",
    "\n",
    "base = Overlay(\"/home/xilinx/pynq/overlays/base/top.bit\")\n",
    "base.download()"
   ]
  },
  {
   "cell_type": "markdown",
   "metadata": {},
   "source": [
    "## Memory mapped I/O\n",
    "\n",
    "Creating a MMIO object\n",
    "\n",
    "```\n",
    "MMIO(OffsetAddress, size)\n",
    "           |          |\n",
    "   Can be found in the address editor (size 64k = 0x10000)\n",
    "        \n",
    "```"
   ]
  },
  {
   "cell_type": "code",
   "execution_count": 4,
   "metadata": {},
   "outputs": [],
   "source": [
    "add_example = MMIO(0x43C80000,0x10000)"
   ]
  },
  {
   "cell_type": "markdown",
   "metadata": {},
   "source": [
    "## Filling the registers"
   ]
  },
  {
   "cell_type": "code",
   "execution_count": 5,
   "metadata": {},
   "outputs": [
    {
     "name": "stdout",
     "output_type": "stream",
     "text": [
      "Integer a: 3\n",
      "Integer b: 5\n"
     ]
    }
   ],
   "source": [
    "add_example.write(0x10,3)\n",
    "print(\"Integer a:\",add_example.read(0x10))\n",
    "\n",
    "add_example.write(0x18,5)\n",
    "print(\"Integer b:\",add_example.read(0x18))"
   ]
  },
  {
   "cell_type": "markdown",
   "metadata": {},
   "source": [
    "## Setting the AP-start signal"
   ]
  },
  {
   "cell_type": "code",
   "execution_count": 6,
   "metadata": {},
   "outputs": [],
   "source": [
    "add_example.write(0x00,1)"
   ]
  },
  {
   "cell_type": "markdown",
   "metadata": {},
   "source": [
    "## Reading the output value register"
   ]
  },
  {
   "cell_type": "code",
   "execution_count": 7,
   "metadata": {},
   "outputs": [
    {
     "name": "stdout",
     "output_type": "stream",
     "text": [
      "Integer c= 8\n"
     ]
    }
   ],
   "source": [
    "print(\"Integer c=\",add_example.read(0x20))"
   ]
  }
 ],
 "metadata": {
  "kernelspec": {
   "display_name": "Python 3",
   "language": "python",
   "name": "python3"
  },
  "language_info": {
   "codemirror_mode": {
    "name": "ipython",
    "version": 3
   },
   "file_extension": ".py",
   "mimetype": "text/x-python",
   "name": "python",
   "nbconvert_exporter": "python",
   "pygments_lexer": "ipython3",
   "version": "3.6.0"
  }
 },
 "nbformat": 4,
 "nbformat_minor": 2
}
