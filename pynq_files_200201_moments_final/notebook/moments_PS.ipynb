{
 "cells": [
  {
   "cell_type": "markdown",
   "metadata": {},
   "source": [
    "## moments_PS\n",
    "\n",
    "# Moment Calculator in Processing System (PS)\n",
    "\n",
    "\n",
    "\n",
    "<img src=\"resizenb.png\" width=\"800\" height=\"650\"/>\n",
    "\n",
    "## Contents    \n",
    " \n",
    "* Moment Calculating with using PIL library\n",
    "* Import libraries\n",
    "* Create an Image object\n",
    "* Display the image\n",
    "* Change the image size\n",
    "* Display final image\n",
    "* References\n",
    "\n",
    "\n",
    "\n",
    "\n",
    "\n",
    "## Import libraries\n",
    "\n",
    "1. **PIL** library to load and resize the image   \n",
    "2. **numpy** to store the pixel array of the image\n",
    "3. **IPython.display** to show the image in the notebook "
   ]
  },
  {
   "cell_type": "code",
   "execution_count": 10,
   "metadata": {},
   "outputs": [],
   "source": [
    "from PIL import Image\n",
    "import numpy as np\n",
    "from IPython.display import display"
   ]
  },
  {
   "cell_type": "markdown",
   "metadata": {},
   "source": [
    "## Create an Image object\n",
    "We will load image from the SD card and create an Image object."
   ]
  },
  {
   "cell_type": "code",
   "execution_count": 16,
   "metadata": {},
   "outputs": [
    {
     "data": {
      "text/plain": [
       "<PixelAccess at 0xa53e8c70>"
      ]
     },
     "execution_count": 16,
     "metadata": {},
     "output_type": "execute_result"
    }
   ],
   "source": [
    "image_path = \"Moment.png\"\n",
    "original_image = Image.open(image_path)\n",
    "original_image.load()"
   ]
  },
  {
   "cell_type": "markdown",
   "metadata": {},
   "source": [
    "We now create a numpy array of the pixels."
   ]
  },
  {
   "cell_type": "code",
   "execution_count": 17,
   "metadata": {},
   "outputs": [],
   "source": [
    "input_array = np.array(original_image)"
   ]
  },
  {
   "cell_type": "markdown",
   "metadata": {},
   "source": [
    "## Display the image"
   ]
  },
  {
   "cell_type": "code",
   "execution_count": 18,
   "metadata": {},
   "outputs": [
    {
     "data": {
      "image/png": "[encoded data removed]",
      "text/plain": [
       "<PIL.Image.Image image mode=RGBA size=640x360 at 0xB57903F0>"
      ]
     },
     "metadata": {},
     "output_type": "display_data"
    }
   ],
   "source": [
    "input_image = Image.fromarray(input_array)\n",
    "display(input_image)"
   ]
  },
  {
   "cell_type": "markdown",
   "metadata": {},
   "source": [
    "Let's double-check the original image size."
   ]
  },
  {
   "cell_type": "code",
   "execution_count": 19,
   "metadata": {},
   "outputs": [
    {
     "name": "stdout",
     "output_type": "stream",
     "text": [
      "Image size: 640x360 pixels.\n"
     ]
    }
   ],
   "source": [
    "old_width, old_height = original_image.size\n",
    "print(\"Image size: {}x{} pixels.\".format(old_width, old_height))"
   ]
  },
  {
   "cell_type": "markdown",
   "metadata": {},
   "source": [
    "## Change the image size\n",
    "We will set image resize dimensions."
   ]
  },
  {
   "cell_type": "code",
   "execution_count": 20,
   "metadata": {},
   "outputs": [],
   "source": [
    "resize_factor = 2\n",
    "new_width = int(old_width/resize_factor)\n",
    "new_height = int(old_height/resize_factor)"
   ]
  },
  {
   "cell_type": "markdown",
   "metadata": {},
   "source": [
    "We will use `resize()` method from the PIL library.\n",
    "We map multiple input pixels to a single output pixels to downscale the image   \n",
    "The Python Imaging Library provides different resampling filters. We use the default: NEAREST   \n",
    "Pick one nearest pixel from the input image. Ignore all other input pixels."
   ]
  },
  {
   "cell_type": "code",
   "execution_count": 21,
   "metadata": {},
   "outputs": [],
   "source": [
    "resized_image = original_image.resize((new_width, new_height))"
   ]
  },
  {
   "cell_type": "markdown",
   "metadata": {},
   "source": [
    "## Display final image"
   ]
  },
  {
   "cell_type": "code",
   "execution_count": 22,
   "metadata": {},
   "outputs": [
    {
     "data": {
      "image/png": "[encoded data removed]",
      "text/plain": [
       "<PIL.Image.Image image mode=RGBA size=320x180 at 0xB5790650>"
      ]
     },
     "metadata": {},
     "output_type": "display_data"
    }
   ],
   "source": [
    "output_array = np.array(resized_image)\n",
    "result = Image.fromarray(output_array)\n",
    "display(result)"
   ]
  },
  {
   "cell_type": "markdown",
   "metadata": {},
   "source": [
    "Let's check the resized image size."
   ]
  },
  {
   "cell_type": "code",
   "execution_count": 23,
   "metadata": {},
   "outputs": [
    {
     "name": "stdout",
     "output_type": "stream",
     "text": [
      "Resized image size: 320x180 pixels.\n"
     ]
    }
   ],
   "source": [
    "width, height = resized_image.size\n",
    "print(\"Resized image size: {}x{} pixels.\".format(width, height))"
   ]
  },
  {
   "cell_type": "markdown",
   "metadata": {},
   "source": [
    "We can time the resize in software operation."
   ]
  },
  {
   "cell_type": "code",
   "execution_count": 25,
   "metadata": {},
   "outputs": [
    {
     "name": "stdout",
     "output_type": "stream",
     "text": [
      "10 loops, best of 3: 41.8 ms per loop\n"
     ]
    }
   ],
   "source": [
    "%%timeit\n",
    "resized_image = original_image.resize((new_width, new_height), Image.BILINEAR)"
   ]
  },
  {
   "cell_type": "code",
   "execution_count": null,
   "metadata": {},
   "outputs": [],
   "source": []
  },
  {
   "cell_type": "markdown",
   "metadata": {},
   "source": [
    "# Find Moment"
   ]
  },
  {
   "cell_type": "code",
   "execution_count": 3,
   "metadata": {},
   "outputs": [
    {
     "name": "stdout",
     "output_type": "stream",
     "text": [
      "m00: 2073600 21.0\n",
      "m01: 1989619200 31.0\n",
      "m10: 1118707200 31.0\n",
      "m11: 1073399558400 40.0\n",
      "m02: 2546049369600 42.0\n",
      "m20: 805096281600 40.0\n"
     ]
    }
   ],
   "source": [
    "import cv2\n",
    "import numpy as np \n",
    "import math # for tan\n",
    "import matplotlib.pyplot as plt\n",
    "\n",
    "%config IPCompleter.greedy=True\n",
    "\n",
    "m00 = 0\n",
    "m01 = 0\n",
    "m10 = 0\n",
    "m11 = 0\n",
    "m02 = 0\n",
    "m20 = 0\n",
    "\n",
    "for r in range(1080):\n",
    "    for c in range(1920):\n",
    "        m00 += 1\n",
    "        m01 += c\n",
    "        m10 += r\n",
    "        m11 += r*c\n",
    "        m02 += c*c\n",
    "        m20 += r*r\n",
    "\n",
    "print('m00:',m00, np.ceil(np.log(m00)/np.log(2)))\n",
    "print('m01:',m01, np.ceil(np.log(m01)/np.log(2)))\n",
    "print('m10:',m10, np.ceil(np.log(m10)/np.log(2)))\n",
    "print('m11:',m11, np.ceil(np.log(m11)/np.log(2)))\n",
    "print('m02:',m02, np.ceil(np.log(m02)/np.log(2)))\n",
    "print('m20:',m20, np.ceil(np.log(m20)/np.log(2)))"
   ]
  },
  {
   "cell_type": "code",
   "execution_count": 4,
   "metadata": {},
   "outputs": [],
   "source": [
    "def calcmoments(img):\n",
    "    # function to calculate moments\n",
    "    moments = np.zeros(6, dtype=int) # Moments : [ m00, m01, m10, m11, m02, m20 ]\n",
    "    for y in range(img.shape[0]):\n",
    "        for x in range(img.shape[1]):\n",
    "            if (img[y,x] & 128): # check if 7th bit is '1', it is set for all gray values >=128\n",
    "                moments[0] += 1\n",
    "                moments[1] += y\n",
    "                moments[2] += x\n",
    "                moments[3] += x*y\n",
    "                moments[4] += y*y\n",
    "                moments[5] += x*x\n",
    "    return moments\n",
    "    \n",
    "    \n",
    "def calcthetacXcY(m):\n",
    "    # calculate cX,cY,theta of blob\n",
    "    cxytheta = np.zeros(3, dtype=float) # cxytheta : [ cX, cY, theta ]\n",
    "\n",
    "    if m[0] > 0:\n",
    "        cxytheta[0] = int(m[2]/m[0])\n",
    "        cxytheta[1] = int(m[1]/m[0])\n",
    "        mu11 = (m[3]/m[0])-cxytheta[0]*cxytheta[1]\n",
    "        mu02 = (m[4]/m[0])-cxytheta[1]**2\n",
    "        mu20 = (m[5]/m[0])-cxytheta[0]**2\n",
    "        sub = mu20-mu02\n",
    "        mult = 2*mu11\n",
    "        cxytheta[2] = 0.5 *  math.atan2( mult , sub )\n",
    "        #cxytheta[3] = 0.5 *  math.atan( mult / sub )\n",
    "    \n",
    "    return cxytheta\n"
   ]
  },
  {
   "cell_type": "code",
   "execution_count": 6,
   "metadata": {},
   "outputs": [],
   "source": [
    "import cv2\n",
    "import numpy as np\n",
    "import math\n",
    "import matplotlib.pyplot as plt\n",
    "%config IPCompleter.greedy=True\n",
    "\n",
    "#i = 0\n",
    "#new_img = cv2.imread('pics/Block'+str(i)+'.png',0)\n",
    "\n",
    "#cv2.imshow(\"resize\", test)\n",
    "#cv2.waitKey(0)\n",
    "#cv2.destroyWindow(\"resize\")\n",
    "#test.shape"
   ]
  },
  {
   "cell_type": "code",
   "execution_count": 7,
   "metadata": {
    "scrolled": true
   },
   "outputs": [
    {
     "data": {
      "image/png": "[encoded data removed]",
      "text/plain": [
       "<matplotlib.figure.Figure at 0xa59e03b0>"
      ]
     },
     "metadata": {},
     "output_type": "display_data"
    },
    {
     "data": {
      "image/png": "[encoded data removed]",
      "text/plain": [
       "<matplotlib.figure.Figure at 0xa59c4570>"
      ]
     },
     "metadata": {},
     "output_type": "display_data"
    }
   ],
   "source": [
    "tiles = 4\n",
    "rows = 180\n",
    "cols = 320\n",
    "hugeImg = np.zeros( (4*rows, 4*cols, 3), np.uint8)\n",
    "# print(hugeImg.shape)\n",
    "\n",
    "# cv::Mat small_image;\n",
    "# cv::Mat big_image;\n",
    "# ...\n",
    "# //Somehow fill small_image and big_image with your data\n",
    "# ...\n",
    "# small_image.copyTo(big_image(cv::Rect(x,y,small_image.cols, small_image.rows)));\n",
    "\n",
    "text_file = open(\"out.gold.dat\", \"w\")\n",
    "\n",
    "for i in np.arange(16):\n",
    "    new_img = cv2.imread('pics/Block'+str(i)+'.png',0)\n",
    "    img = cv2.resize (new_img,(320,180))\n",
    "    m = calcmoments(img) # Moments : [ m00, m01, m10, m11, m20, m02 ]\n",
    "    #print(\"Moments: m00: {} m01: {} m10: {} m11: {} m02: {} m20 {}\".format(m[0],m[1],m[2],m[3],m[4],m[5]))\n",
    "    \n",
    "    cxytheta = calcthetacXcY(m) # cxytheta : [ cX, cY, theta ]\n",
    "    testi = 'Center X {0:d}, Center Y {1:d}, Angle tan2 {2:.2f}°\\n'.format(int(cxytheta[0]),int(cxytheta[1]),np.degrees(cxytheta[2]))\n",
    "    \n",
    "    \n",
    "    n = text_file.write(testi)\n",
    "\n",
    "    \n",
    "    # visu\n",
    "    # create line through center point\n",
    "    length = 130\n",
    "    x1 = cxytheta[0] + length * math.cos(cxytheta[2])\n",
    "    y1 = cxytheta[1] + length * math.sin(cxytheta[2]) \n",
    "    x2 = cxytheta[0] - length * math.cos(cxytheta[2])\n",
    "    y2 = cxytheta[1] - length * math.sin(cxytheta[2]) \n",
    " \n",
    "    color_image = cv2.cvtColor(img, cv2.COLOR_GRAY2RGB)\n",
    "    lineThickness = 2\n",
    "    cv2.line(color_image, (int(x1), int(y1)), (int(x2), int(y2)), (0,255,0), lineThickness)\n",
    "    cv2.circle(color_image, (int(cxytheta[0]), int(cxytheta[1])), 5, (255, 0, 255), -1)\n",
    "    cv2.putText(color_image, \"centroid\", (int(cxytheta[0]) - 25, int(cxytheta[1]) - 25),cv2.FONT_HERSHEY_SIMPLEX, 0.5, (255, 0, 255), 2)\n",
    "    \n",
    "    # copy images into large result image\n",
    "    rpos = int(i/4)*rows\n",
    "    cpos = i%4*cols\n",
    "    hugeImg[rpos:rpos+rows, cpos:cpos+cols] = color_image\n",
    "\n",
    "text_file.close()    \n",
    "\n",
    "# display plot in notebook\n",
    "%matplotlib inline\n",
    "plt.axis(\"off\")\n",
    "plt.figure(figsize=(15,15))\n",
    "plt.imshow(hugeImg)\n",
    "plt.savefig('goldenref.png')\n",
    "plt.show()\n",
    "\n",
    "\n",
    "# not needed! display the image in opencv\n",
    "#cv2.namedWindow(\"main\", cv2.WINDOW_NORMAL)\n",
    "#cv2.imshow(\"main\", hugeImg)\n",
    "#cv2.waitKey(0)\n",
    "#cv2.destroyAllWindows()"
   ]
  },
  {
   "cell_type": "code",
   "execution_count": 8,
   "metadata": {},
   "outputs": [
    {
     "data": {
      "text/plain": [
       "'Center X 163.00, Center Y 86.00, Angle tan2 9.27°'"
      ]
     },
     "execution_count": 8,
     "metadata": {},
     "output_type": "execute_result"
    }
   ],
   "source": [
    "testi = 'Center X {0:.2f}, Center Y {1:.2f}, Angle tan2 {2:.2f}°'.format(cxytheta[0],cxytheta[1],np.degrees(cxytheta[2]))\n",
    "testi"
   ]
  },
  {
   "cell_type": "markdown",
   "metadata": {},
   "source": [
    "# References\n",
    "\n",
    "https://pillow.readthedocs.io/en/3.1.x/index.html   \n",
    "https://github.com/Xilinx/PYNQ/blob/master/docs/source/python_environment.ipynb   \n",
    "https://github.com/Xilinx/PYNQ/blob/master/docs/source/jupyter_notebooks.ipynb   \n",
    "https://github.com/Xilinx/PYNQ/blob/master/docs/source/jupyter_notebooks_advanced_features.ipynb   \n",
    "https://pillow.readthedocs.io/en/latest/handbook/concepts.html#filters"
   ]
  },
  {
   "cell_type": "code",
   "execution_count": null,
   "metadata": {},
   "outputs": [],
   "source": []
  }
 ],
 "metadata": {
  "kernelspec": {
   "display_name": "Python 3",
   "language": "python",
   "name": "python3"
  },
  "language_info": {
   "codemirror_mode": {
    "name": "ipython",
    "version": 3
   },
   "file_extension": ".py",
   "mimetype": "text/x-python",
   "name": "python",
   "nbconvert_exporter": "python",
   "pygments_lexer": "ipython3",
   "version": "3.6.5"
  }
 },
 "nbformat": 4,
 "nbformat_minor": 2
}
