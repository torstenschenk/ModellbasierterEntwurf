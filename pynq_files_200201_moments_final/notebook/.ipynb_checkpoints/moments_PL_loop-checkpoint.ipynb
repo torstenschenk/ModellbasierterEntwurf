{
 "cells": [
  {
   "cell_type": "markdown",
   "metadata": {},
   "source": [
    "# Run test image in loop and show center line"
   ]
  },
  {
   "cell_type": "code",
   "execution_count": 12,
   "metadata": {},
   "outputs": [],
   "source": [
    "from PIL import Image, ImageDraw\n",
    "import numpy as np\n",
    "from IPython.display import display\n",
    "from pynq import Xlnk\n",
    "from pynq import Overlay\n",
    "import math # for atan2"
   ]
  },
  {
   "cell_type": "markdown",
   "metadata": {},
   "source": [
    "## Download the Moments IP bitstream"
   ]
  },
  {
   "cell_type": "code",
   "execution_count": 18,
   "metadata": {},
   "outputs": [],
   "source": [
    "moments_design = Overlay(\"../bitstream/moments.bit\")\n",
    "#moments_design?\n",
    "dma = moments_design.axi_dma_0\n",
    "moments = moments_design.moments_0"
   ]
  },
  {
   "cell_type": "markdown",
   "metadata": {},
   "source": [
    "## Load image"
   ]
  },
  {
   "cell_type": "code",
   "execution_count": 15,
   "metadata": {},
   "outputs": [
    {
     "name": "stdout",
     "output_type": "stream",
     "text": [
      "Image size: 640x360 pixels.\n"
     ]
    }
   ],
   "source": [
    "#image_path = \"simu_img/Block5.png\"\n",
    "#image_path = \"simu_img/Block7.png\"\n",
    "#image_path = \"simu_img/eye1.jpg\"\n",
    "#image_path = \"simu_img/test0.png\"\n",
    "image_path = \"simu_img/test2.png\"\n",
    "original_image = Image.open(image_path)\n",
    "original_image.load()\n",
    "old_width, old_height = original_image.size\n",
    "print(\"Image size: {}x{} pixels.\".format(old_width, old_height))\n",
    "new_width = int(old_width/2)\n",
    "new_height = int(old_height/2)\n",
    "xlnk = Xlnk()\n",
    "in_buffer = xlnk.cma_array(shape=(old_height, old_width, 3), \n",
    "                           dtype=np.uint8, cacheable=1)\n",
    "out_buffer = xlnk.cma_array(shape=(new_height, new_width, 3), \n",
    "                            dtype=np.uint8, cacheable=1)"
   ]
  },
  {
   "cell_type": "code",
   "execution_count": 19,
   "metadata": {},
   "outputs": [
    {
     "name": "stdout",
     "output_type": "stream",
     "text": [
      "Return angle components: angle x comp: 1899 angle y comp: -1177\n",
      "Return values of moments: x: 176 y: 83 angleRAD: -0.27742558569631903\n",
      "Image has also been resized in Hardware(PL): 320x180 pixels.\n"
     ]
    },
    {
     "data": {
      "image/png": "[encoded data removed]",
      "text/plain": [
       "<PIL.Image.Image image mode=RGB size=320x180 at 0xAEDFD970>"
      ]
     },
     "metadata": {},
     "output_type": "display_data"
    },
    {
     "name": "stdout",
     "output_type": "stream",
     "text": [
      "Return angle components: angle x comp: 2419 angle y comp: -513\n",
      "Return values of moments: x: 165 y: 91 angleRAD: -0.1044874957624017\n",
      "Image has also been resized in Hardware(PL): 320x180 pixels.\n"
     ]
    },
    {
     "data": {
      "image/png": "[encoded data removed]",
      "text/plain": [
       "<PIL.Image.Image image mode=RGB size=320x180 at 0xAEDF87B0>"
      ]
     },
     "metadata": {},
     "output_type": "display_data"
    },
    {
     "name": "stdout",
     "output_type": "stream",
     "text": [
      "Return angle components: angle x comp: 2807 angle y comp: 940\n",
      "Return values of moments: x: 164 y: 86 angleRAD: 0.1615696470115217\n",
      "Image has also been resized in Hardware(PL): 320x180 pixels.\n"
     ]
    },
    {
     "data": {
      "image/png": "[encoded data removed]",
      "text/plain": [
       "<PIL.Image.Image image mode=RGB size=320x180 at 0xAEDF8AB0>"
      ]
     },
     "metadata": {},
     "output_type": "display_data"
    },
    {
     "name": "stdout",
     "output_type": "stream",
     "text": [
      "Return angle components: angle x comp: 6278 angle y comp: 6208\n",
      "Return values of moments: x: 159 y: 81 angleRAD: 0.38989597154981115\n",
      "Image has also been resized in Hardware(PL): 320x180 pixels.\n"
     ]
    },
    {
     "data": {
      "image/png": "[encoded data removed]",
      "text/plain": [
       "<PIL.Image.Image image mode=RGB size=320x180 at 0xAEDF8890>"
      ]
     },
     "metadata": {},
     "output_type": "display_data"
    },
    {
     "name": "stdout",
     "output_type": "stream",
     "text": [
      "Return angle components: angle x comp: 2921 angle y comp: 2794\n",
      "Return values of moments: x: 155 y: 88 angleRAD: 0.3815897990353646\n",
      "Image has also been resized in Hardware(PL): 320x180 pixels.\n"
     ]
    },
    {
     "data": {
      "image/png": "[encoded data removed]",
      "text/plain": [
       "<PIL.Image.Image image mode=RGB size=320x180 at 0xAEDF89D0>"
      ]
     },
     "metadata": {},
     "output_type": "display_data"
    },
    {
     "name": "stdout",
     "output_type": "stream",
     "text": [
      "Return angle components: angle x comp: -543 angle y comp: -1039\n",
      "Return values of moments: x: 138 y: 98 angleRAD: -1.0261870505385273\n",
      "Image has also been resized in Hardware(PL): 320x180 pixels.\n"
     ]
    },
    {
     "data": {
      "image/png": "[encoded data removed]",
      "text/plain": [
       "<PIL.Image.Image image mode=RGB size=320x180 at 0xAEDF87B0>"
      ]
     },
     "metadata": {},
     "output_type": "display_data"
    },
    {
     "ename": "OSError",
     "evalue": "cannot identify image file 'simu_img/Thumbs.db'",
     "output_type": "error",
     "traceback": [
      "\u001b[0;31m---------------------------------------------------------------------------\u001b[0m",
      "\u001b[0;31mOSError\u001b[0m                                   Traceback (most recent call last)",
      "\u001b[0;32m<ipython-input-19-3ed4fefe3211>\u001b[0m in \u001b[0;36m<module>\u001b[0;34m()\u001b[0m\n\u001b[1;32m      2\u001b[0m \u001b[0;31m# run loop to load images\u001b[0m\u001b[0;34m\u001b[0m\u001b[0;34m\u001b[0m\u001b[0m\n\u001b[1;32m      3\u001b[0m \u001b[0;32mfor\u001b[0m \u001b[0mimg\u001b[0m \u001b[0;32min\u001b[0m \u001b[0mglob\u001b[0m\u001b[0;34m.\u001b[0m\u001b[0mglob\u001b[0m\u001b[0;34m(\u001b[0m\u001b[0;34m\"simu_img/*\"\u001b[0m\u001b[0;34m)\u001b[0m\u001b[0;34m:\u001b[0m\u001b[0;34m\u001b[0m\u001b[0m\n\u001b[0;32m----> 4\u001b[0;31m     \u001b[0moriginal_image\u001b[0m \u001b[0;34m=\u001b[0m \u001b[0mImage\u001b[0m\u001b[0;34m.\u001b[0m\u001b[0mopen\u001b[0m\u001b[0;34m(\u001b[0m\u001b[0mimg\u001b[0m\u001b[0;34m)\u001b[0m\u001b[0;34m\u001b[0m\u001b[0m\n\u001b[0m\u001b[1;32m      5\u001b[0m     \u001b[0moriginal_image\u001b[0m\u001b[0;34m.\u001b[0m\u001b[0mload\u001b[0m\u001b[0;34m(\u001b[0m\u001b[0;34m)\u001b[0m\u001b[0;34m\u001b[0m\u001b[0m\n\u001b[1;32m      6\u001b[0m     \u001b[0minput_array\u001b[0m \u001b[0;34m=\u001b[0m \u001b[0mnp\u001b[0m\u001b[0;34m.\u001b[0m\u001b[0marray\u001b[0m\u001b[0;34m(\u001b[0m\u001b[0moriginal_image\u001b[0m\u001b[0;34m)\u001b[0m\u001b[0;34m\u001b[0m\u001b[0m\n",
      "\u001b[0;32m/usr/lib/python3/dist-packages/PIL/Image.py\u001b[0m in \u001b[0;36mopen\u001b[0;34m(fp, mode)\u001b[0m\n\u001b[1;32m   2588\u001b[0m         \u001b[0mfp\u001b[0m\u001b[0;34m.\u001b[0m\u001b[0mclose\u001b[0m\u001b[0;34m(\u001b[0m\u001b[0;34m)\u001b[0m\u001b[0;34m\u001b[0m\u001b[0m\n\u001b[1;32m   2589\u001b[0m     raise IOError(\"cannot identify image file %r\"\n\u001b[0;32m-> 2590\u001b[0;31m                   % (filename if filename else fp))\n\u001b[0m\u001b[1;32m   2591\u001b[0m \u001b[0;34m\u001b[0m\u001b[0m\n\u001b[1;32m   2592\u001b[0m \u001b[0;31m#\u001b[0m\u001b[0;34m\u001b[0m\u001b[0;34m\u001b[0m\u001b[0m\n",
      "\u001b[0;31mOSError\u001b[0m: cannot identify image file 'simu_img/Thumbs.db'"
     ]
    }
   ],
   "source": [
    "import glob\n",
    "# run loop to load images\n",
    "for img in glob.glob(\"simu_img/*\"):\n",
    "    original_image = Image.open(img)\n",
    "    original_image.load()\n",
    "    input_array = np.array(original_image)\n",
    "\n",
    "    if (len(input_array.shape)==2):\n",
    "        # if single channel create rgb image 3channels\n",
    "        h,w = input_array.shape\n",
    "        rgbArray = np.zeros((h,w,3), 'uint8')\n",
    "        rgbArray[:,:, 0] = input_array\n",
    "        rgbArray[:,:, 1] = input_array\n",
    "        rgbArray[:,:, 2] = input_array    \n",
    "        in_buffer[0:640*360*3] = rgbArray     \n",
    "    else:\n",
    "        in_buffer[0:640*360*3] = input_array\n",
    "\n",
    "    buf_image = Image.fromarray(in_buffer)\n",
    "\n",
    "    for i in range(2):\n",
    "        moments.write(0x10, 13)\n",
    "        x = moments.read(0x18)\n",
    "        y = moments.read(0x20)\n",
    "        anglex = moments.read(0x28)\n",
    "        angley = moments.read(0x30)\n",
    "\n",
    "        def run_kernel():\n",
    "            dma.sendchannel.transfer(in_buffer)\n",
    "            dma.recvchannel.transfer(out_buffer)    \n",
    "            moments.write(0x00,0x81) # start\n",
    "            dma.sendchannel.wait()\n",
    "            dma.recvchannel.wait()\n",
    "\n",
    "        run_kernel()\n",
    "\n",
    "        result = Image.fromarray(out_buffer)\n",
    "\n",
    "        if  angley & 0x80000000:\n",
    "            angley -= 4294967295\n",
    "        if  anglex & 0x80000000:\n",
    "            anglex -= 4294967295\n",
    "\n",
    "        angleRAD = 0.5 * math.atan2(angley,anglex)\n",
    "\n",
    "    print('Return angle components: angle x comp: {} angle y comp: {}'.format(anglex, angley))\n",
    "    print('Return values of moments: x: {} y: {} angleRAD: {}'.format(x,y,angleRAD))\n",
    "    print(\"Image has also been resized in Hardware(PL): {}x{} pixels.\".format(new_width, new_height))\n",
    "    ll = 120\n",
    "    draw = ImageDraw.Draw(result)\n",
    "    draw.line((x-ll*np.cos(-angleRAD),y+ll*np.sin(-angleRAD),x+ll*np.cos(-angleRAD),y-ll*np.sin(-angleRAD)), fill=255, width=4)\n",
    "    del draw\n",
    "    display(result)\n",
    "    \n",
    "    "
   ]
  },
  {
   "cell_type": "markdown",
   "metadata": {},
   "source": [
    "We can now run the resizer IP.\n",
    "We will push the data from input buffer through the pipeline to the output buffer."
   ]
  },
  {
   "cell_type": "code",
   "execution_count": 147,
   "metadata": {},
   "outputs": [],
   "source": [
    "xlnk.xlnk_reset()"
   ]
  }
 ],
 "metadata": {
  "kernelspec": {
   "display_name": "Python 3",
   "language": "python",
   "name": "python3"
  },
  "language_info": {
   "codemirror_mode": {
    "name": "ipython",
    "version": 3
   },
   "file_extension": ".py",
   "mimetype": "text/x-python",
   "name": "python",
   "nbconvert_exporter": "python",
   "pygments_lexer": "ipython3",
   "version": "3.6.5"
  }
 },
 "nbformat": 4,
 "nbformat_minor": 2
}
