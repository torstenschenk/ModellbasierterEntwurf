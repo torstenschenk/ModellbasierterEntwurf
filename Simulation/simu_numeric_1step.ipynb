{
 "cells": [
  {
   "cell_type": "code",
   "execution_count": 1,
   "metadata": {},
   "outputs": [],
   "source": [
    "import numpy as np \n",
    "#import matplotlib.pyplot as plt\n",
    "import math # for tan\n",
    "\n",
    "#from PIL import Image # Python Imaging Library (Fork)"
   ]
  },
  {
   "cell_type": "code",
   "execution_count": 2,
   "metadata": {},
   "outputs": [],
   "source": [
    "def calcmoments(img):\n",
    "    # function to calculate moments\n",
    "    # m00 = 0; m01 = 0; m10 = 0; m11 = 0; m20 = 0; m02 = 0\n",
    "    moments = np.zeros(6, dtype=int)\n",
    "    for y in range(img.shape[0]):\n",
    "        for x in range(img.shape[1]):\n",
    "            if (img[y,x] & 128): # check if 7th bit is '1', it is set for all gray values >=128\n",
    "                moments[0] += 1\n",
    "                moments[1] += y\n",
    "                moments[2] += x\n",
    "                moments[3] += x*y\n",
    "                moments[4] += x*x\n",
    "                moments[5] += y*y\n",
    "    \n",
    "    return moments\n",
    "    \n",
    "    \n",
    "def chalctheta(m):\n",
    "    # calculate cX,cY,theta of blob\n",
    "    cxytheta = np.zeros(3, dtype=float   )\n",
    "    cxytheta[0] = int(m[2]/m[0])\n",
    "    cxytheta[1] = int(m[1]/m[0])\n",
    "    mu20 = (m[4]/m[0])-cxytheta[0]**2\n",
    "    mu11 = (m[3]/m[0])-cxytheta[0]*cxytheta[1]\n",
    "    mu02 = (m[5]/m[0])-cxytheta[1]**2\n",
    "    cxytheta[2] = 0.5 *  math.atan2( (2*mu11) , (mu20-mu02) )\n",
    "    \n",
    "    return cxytheta\n"
   ]
  },
  {
   "cell_type": "code",
   "execution_count": 3,
   "metadata": {
    "scrolled": false
   },
   "outputs": [
    {
     "name": "stdout",
     "output_type": "stream",
     "text": [
      "Degree counterclockwise: 27.65995190709288 °\n",
      "Degree counterclockwise: 47.24221817779009 °\n",
      "Degree counterclockwise: 61.61106986695035 °\n",
      "Degree counterclockwise: -85.07506331422528 °\n",
      "Degree counterclockwise: -56.48139182186234 °\n",
      "Degree counterclockwise: -23.59325437709572 °\n",
      "Degree counterclockwise: -2.4050003610934474 °\n",
      "Degree counterclockwise: 16.079079590816693 °\n",
      "Degree counterclockwise: 30.1221522865163 °\n",
      "Degree counterclockwise: 50.82384401598178 °\n",
      "Degree counterclockwise: 71.24800388126877 °\n",
      "Degree counterclockwise: -70.44264730759554 °\n",
      "Degree counterclockwise: -35.19873593083016 °\n",
      "Degree counterclockwise: -9.306453674431483 °\n",
      "Degree counterclockwise: 12.698239761517945 °\n"
     ]
    }
   ],
   "source": [
    "import cv2\n",
    "\n",
    "for i in np.arange(15):\n",
    "    img = cv2.imread('Block'+str(i)+'.png',0)\n",
    "    \n",
    "    m = calcmoments(img)\n",
    "    #print(\"Moments: m00: {} m01: {} m10: {} m11: {} m20: {} m02{: }\".format(m[0],m[1],m[2],m[3],m[4],m[5]))\n",
    "    \n",
    "    cxytheta = chalctheta(m)\n",
    "    print('Degree clockwise:',np.degrees(cxytheta[2]),'°')\n",
    "    \n",
    "    # visu\n",
    "    length = 130\n",
    "    x1 = cxytheta[0] + length * math.cos(cxytheta[2])\n",
    "    y1 = cxytheta[1] + length * math.sin(cxytheta[2]) \n",
    "    x2 = cxytheta[0] - length * math.cos(cxytheta[2])\n",
    "    y2 = cxytheta[1] - length * math.sin(cxytheta[2]) \n",
    "\n",
    "    cv2.namedWindow(\"main\", cv2.WINDOW_NORMAL)\n",
    "    color_image = cv2.cvtColor(img, cv2.COLOR_GRAY2RGB)\n",
    "    lineThickness = 2\n",
    "    cv2.line(color_image, (int(x1), int(y1)), (int(x2), int(y2)), (0,255,0), lineThickness)\n",
    "    cv2.circle(color_image, (int(cxytheta[0]), int(cxytheta[1])), 5, (255, 0, 255), -1)\n",
    "    cv2.putText(color_image, \"centroid\", (int(cxytheta[0]) - 25, int(cxytheta[1]) - 25),cv2.FONT_HERSHEY_SIMPLEX, 0.5, (255, 0, 255), 2)\n",
    "    # display the image\n",
    "    cv2.imshow(\"main\", color_image)\n",
    "    cv2.waitKey(0)\n",
    "\n",
    "    cv2.destroyAllWindows()"
   ]
  },
  {
   "cell_type": "code",
   "execution_count": null,
   "metadata": {},
   "outputs": [],
   "source": []
  }
 ],
 "metadata": {
  "kernelspec": {
   "display_name": "Python 3",
   "language": "python",
   "name": "python3"
  },
  "language_info": {
   "codemirror_mode": {
    "name": "ipython",
    "version": 3
   },
   "file_extension": ".py",
   "mimetype": "text/x-python",
   "name": "python",
   "nbconvert_exporter": "python",
   "pygments_lexer": "ipython3",
   "version": "3.7.4"
  }
 },
 "nbformat": 4,
 "nbformat_minor": 2
}
