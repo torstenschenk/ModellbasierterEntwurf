{
 "cells": [
  {
   "cell_type": "code",
   "execution_count": 1,
   "metadata": {},
   "outputs": [],
   "source": [
    "import cv2\n",
    "import numpy as np \n",
    "import sys\n",
    "import math"
   ]
  },
  {
   "cell_type": "code",
   "execution_count": 2,
   "metadata": {},
   "outputs": [],
   "source": [
    "#img = cv.imread(str(sys.argv[1]),0)\n",
    "\n",
    "img = cv2.imread(\"img.png\",0)"
   ]
  },
  {
   "cell_type": "code",
   "execution_count": 3,
   "metadata": {},
   "outputs": [],
   "source": [
    "# read image through command line\n",
    "#img = cv2.imread(args[\"ipimage\"])\n",
    "\n",
    "# convert data type\n",
    "#img = img.astype('uint8')\n",
    "# convert the image to grayscale\n",
    "# is already grayscale, therefore error!!!"
   ]
  },
  {
   "cell_type": "code",
   "execution_count": 4,
   "metadata": {},
   "outputs": [
    {
     "name": "stdout",
     "output_type": "stream",
     "text": [
      "Number contours: 7\n",
      "4520.0\n",
      "4391.0\n",
      "20503.0\n",
      "8281.0\n",
      "3454.0\n",
      "3041.5\n",
      "0.0\n",
      "Number contours>100: 6\n"
     ]
    },
    {
     "name": "stderr",
     "output_type": "stream",
     "text": [
      "/home/alienware/anaconda3/envs/lfi/lib/python3.7/site-packages/ipykernel_launcher.py:12: DeprecationWarning: elementwise comparison failed; this will raise an error in the future.\n",
      "  if sys.path[0] == '':\n"
     ]
    }
   ],
   "source": [
    "# convert the grayscale image to binary image\n",
    "ret,thresh = cv2.threshold(img,127,255,0)\n",
    " \n",
    "# find contours in the binary image\n",
    "im2, contours, hierarchy = cv2.findContours(thresh,cv2.RETR_TREE,cv2.CHAIN_APPROX_SIMPLE)\n",
    "\n",
    "print('Number contours:',len(contours))\n",
    "for c in contours:\n",
    "    area = cv2.contourArea(c)\n",
    "    print(area)\n",
    "    if (area < 100.0):\n",
    "        contours.remove(c)\n",
    "\n",
    "print('Number contours>100:',len(contours))"
   ]
  },
  {
   "cell_type": "code",
   "execution_count": 5,
   "metadata": {},
   "outputs": [
    {
     "name": "stdout",
     "output_type": "stream",
     "text": [
      "mu20 1686.7672566371693  m02 315.89413716814306\n",
      "cx: 187 cY: 270 degree: 16.63474093470181 G: 899.4504424778715 A: 1370.8731194690263\n",
      "mu20 962.5919684202527  m02 1201.6040765201615\n",
      "cx: 341 cY: 255 degree: -69.64313646244473 G: -205.68249449631548 A: -239.0121080999088\n",
      "mu20 3649.3333333333285  m02 1011.3333333333285\n",
      "cx: 215 cY: 161 degree: 4.061250209904255 G: 376.5 A: 2638.0\n",
      "mu20 249.33333333333303  m02 2497.333333333332\n",
      "cx: 49 cY: 117 degree: 87.88203730765697 G: 166.5 A: -2247.999999999999\n",
      "mu20 780.6060123528296  m02 380.0792800617637\n",
      "cx: 367 cY: 63 degree: 27.79180283014269 G: 584.5956379077325 A: 400.52673229106585\n",
      "mu20 1213.8161269110642  m02 618.9227080935939\n",
      "cx: 206 cY: 52 degree: -31.977980016475716 G: -1217.3365389884384 A: 594.8934188174703\n"
     ]
    }
   ],
   "source": [
    "cv2.namedWindow(\"main\", cv2.WINDOW_NORMAL)\n",
    "color_image = cv2.cvtColor(img, cv2.COLOR_GRAY2RGB)\n",
    "cv2.drawContours(color_image, contours, -1, (0, 0, 255), 1) \n",
    "\n",
    "for c in contours:\n",
    "    # calculate moments for each contour\n",
    "    M = cv2.moments(c)\n",
    "\n",
    "    # calculate x,y coordinate of center\n",
    "    cX = int(M[\"m10\"] / M[\"m00\"])\n",
    "    cY = int(M[\"m01\"] / M[\"m00\"])\n",
    "    # cv2.circle(img, (cX, cY), 5, (255, 0, 255), -1)\n",
    "    cv2.circle(color_image, (cX, cY), 5, (255, 0, 255), -1)\n",
    "    cv2.putText(color_image, \"centroid\", (cX - 25, cY - 25),cv2.FONT_HERSHEY_SIMPLEX, 0.5, (255, 0, 255), 2)\n",
    "\n",
    "    # display the image\n",
    "    cv2.imshow(\"main\", color_image)\n",
    "    cv2.waitKey(0)\n",
    "    \n",
    "for c in contours:\n",
    "    M = cv2.moments(c)\n",
    "    cX = int(M[\"m10\"] / M[\"m00\"])\n",
    "    cY = int(M[\"m01\"] / M[\"m00\"])\n",
    "    mu20 = (M[\"m20\"]/M[\"m00\"])-(cX**2)\n",
    "    mu11 = (M[\"m11\"]/M[\"m00\"])-(cX*cY)\n",
    "    mu02 = (M[\"m02\"]/M[\"m00\"])-(cY**2)\n",
    "    theta = 0.5 *  math.atan2( (2*mu11) , (mu20-mu02) )\n",
    "    ### tan not working!!!!\n",
    "    #theta = 0.5 *  math.atan( (2*mu11) / (mu20-mu02) )\n",
    "    #cv2.line()\n",
    "    #print('val:',(2*mu11) / (mu20-mu02))\n",
    "    print(\"mu20 {}  m02 {}\".format(mu20,mu02))\n",
    "    print('cx:',cX,'cY:',cY,'degree:',math.degrees(theta), 'G:', 2*mu11, 'A:', (mu20-mu02))\n",
    "    #print('cx:',cX,'cY:',cY,'degree:',theta, 'G:', 2*mu11, 'A:', (mu20-mu02))\n",
    "    length = 50\n",
    "    x2 = cX + length * math.cos(theta)\n",
    "    y2 = cY + length * math.sin(theta) \n",
    "    lineThickness = 2\n",
    "    cv2.line(color_image, (int(cX), int(cY)), (int(x2), int(y2)), (0,255,0), lineThickness)\n",
    "    \n",
    "    # display the image\n",
    "    cv2.imshow(\"main\", color_image)\n",
    "    cv2.waitKey(0)\n",
    "    \n",
    "cv2.imwrite(\"colorres.png\",color_image)\n",
    "\n",
    "cv2.destroyAllWindows()"
   ]
  },
  {
   "cell_type": "code",
   "execution_count": null,
   "metadata": {},
   "outputs": [],
   "source": []
  },
  {
   "cell_type": "code",
   "execution_count": null,
   "metadata": {},
   "outputs": [],
   "source": []
  },
  {
   "cell_type": "code",
   "execution_count": null,
   "metadata": {},
   "outputs": [],
   "source": []
  },
  {
   "cell_type": "code",
   "execution_count": null,
   "metadata": {},
   "outputs": [],
   "source": []
  }
 ],
 "metadata": {
  "kernelspec": {
   "display_name": "Python 3",
   "language": "python",
   "name": "python3"
  },
  "language_info": {
   "codemirror_mode": {
    "name": "ipython",
    "version": 3
   },
   "file_extension": ".py",
   "mimetype": "text/x-python",
   "name": "python",
   "nbconvert_exporter": "python",
   "pygments_lexer": "ipython3",
   "version": "3.7.4"
  }
 },
 "nbformat": 4,
 "nbformat_minor": 2
}
