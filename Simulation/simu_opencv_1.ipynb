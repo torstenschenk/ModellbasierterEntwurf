{
 "cells": [
  {
   "cell_type": "code",
   "execution_count": 2,
   "metadata": {},
   "outputs": [],
   "source": [
    "import cv2\n",
    "import numpy as np \n",
    "import sys"
   ]
  },
  {
   "cell_type": "code",
   "execution_count": 3,
   "metadata": {},
   "outputs": [],
   "source": [
    "#img = cv.imread(str(sys.argv[1]),0)\n",
    "\n",
    "img = cv2.imread(\"img.png\",0)"
   ]
  },
  {
   "cell_type": "code",
   "execution_count": 4,
   "metadata": {},
   "outputs": [],
   "source": [
    "# read image through command line\n",
    "#img = cv2.imread(args[\"ipimage\"])\n",
    "\n",
    "# convert data type\n",
    "#img = img.astype('uint8')\n",
    "# convert the image to grayscale\n",
    "# is already grayscale, therefore error!!!\n",
    "#gray_image = cv2.cvtColor(image, cv2.COLOR_BGR2GRAY)"
   ]
  },
  {
   "cell_type": "code",
   "execution_count": 20,
   "metadata": {},
   "outputs": [
    {
     "name": "stdout",
     "output_type": "stream",
     "text": [
      "Number contours: 7\n",
      "4520.0\n",
      "4391.0\n",
      "20503.0\n",
      "8281.0\n",
      "3454.0\n",
      "3041.5\n",
      "0.0\n",
      "Number contours >100: 6\n"
     ]
    },
    {
     "name": "stderr",
     "output_type": "stream",
     "text": [
      "/home/ts/anaconda3/envs/lfi/lib/python3.7/site-packages/ipykernel_launcher.py:12: DeprecationWarning: elementwise comparison failed; this will raise an error in the future.\n",
      "  if sys.path[0] == '':\n"
     ]
    }
   ],
   "source": [
    "# convert the grayscale image to binary image\n",
    "ret,thresh = cv2.threshold(img,127,255,0)\n",
    " \n",
    "# find contours in the binary image\n",
    "im2, contours, hierarchy = cv2.findContours(thresh,cv2.RETR_TREE,cv2.CHAIN_APPROX_SIMPLE)\n",
    "\n",
    "print('Number contours:',len(contours))\n",
    "for c in contours:\n",
    "    area = cv2.contourArea(c)\n",
    "    print(area)\n",
    "    if (area<=100):\n",
    "        contours.remove(c)\n",
    "\n",
    "print('Number contours>100:',len(contours))"
   ]
  },
  {
   "cell_type": "code",
   "execution_count": 23,
   "metadata": {},
   "outputs": [],
   "source": [
    "for c in contours:\n",
    "   # calculate moments for each contour\n",
    "   M = cv2.moments(c)\n",
    " \n",
    "   # calculate x,y coordinate of center\n",
    "   cX = int(M[\"m10\"] / M[\"m00\"])\n",
    "   cY = int(M[\"m01\"] / M[\"m00\"])\n",
    "   cv2.circle(img, (cX, cY), 5, (0, 255, 0), -1)\n",
    "   cv2.putText(img, \"centroid\", (cX - 25, cY - 25),cv2.FONT_HERSHEY_SIMPLEX, 0.5, (255, 255, 255), 2)\n",
    " \n",
    "   # display the image\n",
    "   cv2.imshow(\"Image\", img)\n",
    "   cv2.waitKey(0)\n",
    "    \n",
    "cv2.destroyAllWindows()"
   ]
  }
 ],
 "metadata": {
  "kernelspec": {
   "display_name": "Python 3",
   "language": "python",
   "name": "python3"
  },
  "language_info": {
   "codemirror_mode": {
    "name": "ipython",
    "version": 3
   },
   "file_extension": ".py",
   "mimetype": "text/x-python",
   "name": "python",
   "nbconvert_exporter": "python",
   "pygments_lexer": "ipython3",
   "version": "3.7.4"
  }
 },
 "nbformat": 4,
 "nbformat_minor": 2
}
