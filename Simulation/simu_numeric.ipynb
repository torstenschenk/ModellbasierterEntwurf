{
 "cells": [
  {
   "cell_type": "code",
   "execution_count": 1,
   "metadata": {},
   "outputs": [],
   "source": [
    "import cv2\n",
    "import numpy as np \n",
    "import sys\n",
    "import math"
   ]
  },
  {
   "cell_type": "code",
   "execution_count": 3,
   "metadata": {},
   "outputs": [],
   "source": [
    "#img = cv.imread(str(sys.argv[1]),0)\n",
    "\n",
    "img = cv2.imread(\"Block.png\",0)\n",
    "#display the image\n",
    "#cv2.namedWindow(\"main\", cv2.WINDOW_NORMAL)\n",
    "#cv2.imshow(\"main\", img)\n",
    "#cv2.waitKey(0)\n",
    "#cv2.destroyAllWindows()"
   ]
  },
  {
   "cell_type": "code",
   "execution_count": 4,
   "metadata": {},
   "outputs": [],
   "source": [
    "# read image through command line\n",
    "#img = cv2.imread(args[\"ipimage\"])\n",
    "\n",
    "# convert data type\n",
    "#img = img.astype('uint8')\n",
    "# convert the image to grayscale\n",
    "# is already grayscale, therefore error!!!"
   ]
  },
  {
   "cell_type": "code",
   "execution_count": 5,
   "metadata": {},
   "outputs": [],
   "source": [
    "# convert the grayscale image to binary image\n",
    "#ret,thresh = cv2.threshold(img,127,255,0)\n",
    " \n",
    "# find contours in the binary image\n",
    "#im2, contours, hierarchy = cv2.findContours(thresh,cv2.RETR_TREE,cv2.CHAIN_APPROX_SIMPLE)\n",
    "\n",
    "#print('Number contours:',len(contours))\n",
    "#for c in contours:\n",
    "#    area = cv2.contourArea(c)\n",
    "#    print(area)\n",
    "#    if (area < 100.0):\n",
    "#        contours.remove(c)\n",
    "\n",
    "#print('Number contours>100:',len(contours))"
   ]
  },
  {
   "cell_type": "code",
   "execution_count": 6,
   "metadata": {},
   "outputs": [],
   "source": [
    "#cv2.namedWindow(\"main\", cv2.WINDOW_NORMAL)\n",
    "#color_image = cv2.cvtColor(img, cv2.COLOR_GRAY2RGB)\n",
    "#cv2.drawContours(color_image, contours, -1, (0, 0, 255), 1) \n",
    "\n",
    "#for c in contours:\n",
    "    # calculate moments for each contour\n",
    "#    M = cv2.moments(c)\n",
    "\n",
    "    # calculate x,y coordinate of center\n",
    "#    cX = int(M[\"m10\"] / M[\"m00\"])\n",
    "#    cY = int(M[\"m01\"] / M[\"m00\"])\n",
    "    # cv2.circle(img, (cX, cY), 5, (255, 0, 255), -1)\n",
    "#    cv2.circle(color_image, (cX, cY), 5, (255, 0, 255), -1)\n",
    "#    cv2.putText(color_image, \"centroid\", (cX - 25, cY - 25),cv2.FONT_HERSHEY_SIMPLEX, 0.5, (255, 0, 255), 2)\n",
    "\n",
    "    # display the image\n",
    "#    cv2.imshow(\"main\", color_image)\n",
    "#    cv2.waitKey(0)\n",
    "    \n",
    "#for c in contours:\n",
    "#    M = cv2.moments(c)\n",
    "#    cX = int(M[\"m10\"] / M[\"m00\"])\n",
    "#    cY = int(M[\"m01\"] / M[\"m00\"])\n",
    "#    mu20 = (M[\"m20\"]/M[\"m00\"])-cX**2\n",
    "#    mu11 = (M[\"m11\"]/M[\"m00\"])-cX*cY\n",
    "#    mu02 = (M[\"m02\"]/M[\"m00\"])-cY**2\n",
    "#    theta = 0.5 *  math.atan2( (2*mu11) , (mu20-mu02) )\n",
    "    #cv2.line()\n",
    "    #print('val:',(2*mu11) / (mu20-mu02))\n",
    "#    print('cx:',cX,'cY:',cY,'degree:',math.degrees(theta))\n",
    "    \n",
    "#    length = 50\n",
    "#    x2 = cX + length * math.cos(theta)\n",
    "#    y2 = cY + length * math.sin(theta) \n",
    "#    lineThickness = 2\n",
    "#    cv2.line(color_image, (int(cX), int(cY)), (int(x2), int(y2)), (0,255,0), lineThickness)\n",
    "    \n",
    "    # display the image\n",
    "#    cv2.imshow(\"main\", color_image)\n",
    "#    cv2.waitKey(0)\n",
    "    \n",
    "#cv2.imwrite(\"colorres.png\",color_image)\n",
    "\n",
    "#cv2.destroyAllWindows()"
   ]
  },
  {
   "cell_type": "code",
   "execution_count": 7,
   "metadata": {},
   "outputs": [
    {
     "name": "stdout",
     "output_type": "stream",
     "text": [
      "<class 'numpy.ndarray'>\n"
     ]
    }
   ],
   "source": [
    "print(type(img))"
   ]
  },
  {
   "cell_type": "code",
   "execution_count": 8,
   "metadata": {},
   "outputs": [
    {
     "data": {
      "text/plain": [
       "(240, 317)"
      ]
     },
     "execution_count": 8,
     "metadata": {},
     "output_type": "execute_result"
    }
   ],
   "source": [
    "img.shape"
   ]
  },
  {
   "cell_type": "code",
   "execution_count": 9,
   "metadata": {},
   "outputs": [
    {
     "data": {
      "text/plain": [
       "317"
      ]
     },
     "execution_count": 9,
     "metadata": {},
     "output_type": "execute_result"
    }
   ],
   "source": [
    "img.shape[1]"
   ]
  },
  {
   "cell_type": "code",
   "execution_count": null,
   "metadata": {},
   "outputs": [],
   "source": [
    "# binarisieren auf 0 oder 1"
   ]
  },
  {
   "cell_type": "code",
   "execution_count": 20,
   "metadata": {},
   "outputs": [],
   "source": [
    "countwhite = 0\n",
    "countblack = 0\n",
    "for y in range(img.shape[0]):\n",
    "    for x in range(img.shape[1]):\n",
    "        if img[y,x]>0:\n",
    "            countwhite+=1\n",
    "        else:\n",
    "            countblack+=1\n",
    "\n",
    "m00 = 0\n",
    "m01 = 0\n",
    "m10 = 0\n",
    "m11 = 0\n",
    "m20 = 0\n",
    "m02 = 0\n",
    "for y in range(img.shape[0]):\n",
    "    for x in range(img.shape[1]):\n",
    "        if img[y,x]=1:\n",
    "            m00 += 1\n",
    "            m01 ...\n",
    "            m20 += x*x\n",
    "        \n",
    "        "
   ]
  },
  {
   "cell_type": "code",
   "execution_count": 21,
   "metadata": {},
   "outputs": [],
   "source": [
    "#print('white px:',countwhite)\n",
    "#print('black px:',countblack)\n",
    "#img.shape[0]*img.shape[1]"
   ]
  },
  {
   "cell_type": "code",
   "execution_count": null,
   "metadata": {},
   "outputs": [],
   "source": []
  },
  {
   "cell_type": "code",
   "execution_count": null,
   "metadata": {},
   "outputs": [],
   "source": []
  },
  {
   "cell_type": "code",
   "execution_count": null,
   "metadata": {},
   "outputs": [],
   "source": []
  },
  {
   "cell_type": "code",
   "execution_count": null,
   "metadata": {},
   "outputs": [],
   "source": []
  },
  {
   "cell_type": "code",
   "execution_count": null,
   "metadata": {},
   "outputs": [],
   "source": []
  }
 ],
 "metadata": {
  "kernelspec": {
   "display_name": "Python 3",
   "language": "python",
   "name": "python3"
  },
  "language_info": {
   "codemirror_mode": {
    "name": "ipython",
    "version": 3
   },
   "file_extension": ".py",
   "mimetype": "text/x-python",
   "name": "python",
   "nbconvert_exporter": "python",
   "pygments_lexer": "ipython3",
   "version": "3.7.4"
  }
 },
 "nbformat": 4,
 "nbformat_minor": 2
}
