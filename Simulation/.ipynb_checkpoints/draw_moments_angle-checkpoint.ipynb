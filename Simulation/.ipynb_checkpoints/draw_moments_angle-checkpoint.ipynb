{
 "cells": [
  {
   "cell_type": "code",
   "execution_count": 32,
   "metadata": {},
   "outputs": [],
   "source": [
    "import cv2 as cv\n",
    "import numpy as np \n",
    "import sys"
   ]
  },
  {
   "cell_type": "code",
   "execution_count": 33,
   "metadata": {},
   "outputs": [],
   "source": [
    "#img = cv.imread(str(sys.argv[1]),0)\n",
    "img = cv.imread(\"img.png\",0)\n",
    "ret,thresh = cv.threshold(img,127,255,0)"
   ]
  },
  {
   "cell_type": "code",
   "execution_count": 37,
   "metadata": {},
   "outputs": [
    {
     "ename": "NameError",
     "evalue": "name 'CV_RETR_LIST' is not defined",
     "output_type": "error",
     "traceback": [
      "\u001b[0;31m---------------------------------------------------------------------------\u001b[0m",
      "\u001b[0;31mNameError\u001b[0m                                 Traceback (most recent call last)",
      "\u001b[0;32m<ipython-input-37-a216b5f380bb>\u001b[0m in \u001b[0;36m<module>\u001b[0;34m\u001b[0m\n\u001b[1;32m      1\u001b[0m \u001b[0;31m#contours,hierarchy = cv.findContours(thresh,1,2)\u001b[0m\u001b[0;34m\u001b[0m\u001b[0;34m\u001b[0m\u001b[0;34m\u001b[0m\u001b[0m\n\u001b[1;32m      2\u001b[0m \u001b[0;31m#contours,hierarchy = cv.findContours(thresh, 1, cv.CHAIN_APPROX_SIMPLE)\u001b[0m\u001b[0;34m\u001b[0m\u001b[0;34m\u001b[0m\u001b[0;34m\u001b[0m\u001b[0m\n\u001b[0;32m----> 3\u001b[0;31m \u001b[0mim2\u001b[0m\u001b[0;34m,\u001b[0m \u001b[0mcontours\u001b[0m\u001b[0;34m,\u001b[0m \u001b[0mhierarchy\u001b[0m \u001b[0;34m=\u001b[0m \u001b[0mcv\u001b[0m\u001b[0;34m.\u001b[0m\u001b[0mfindContours\u001b[0m\u001b[0;34m(\u001b[0m\u001b[0mthresh\u001b[0m\u001b[0;34m,\u001b[0m\u001b[0mCV_RETR_LIST\u001b[0m\u001b[0;34m,\u001b[0m\u001b[0mCHAIN_APPROX_SIMPLE\u001b[0m\u001b[0;34m)\u001b[0m\u001b[0;34m\u001b[0m\u001b[0;34m\u001b[0m\u001b[0m\n\u001b[0m",
      "\u001b[0;31mNameError\u001b[0m: name 'CV_RETR_LIST' is not defined"
     ]
    }
   ],
   "source": [
    "#contours,hierarchy = cv.findContours(thresh,1,2)\n",
    "#contours,hierarchy = cv.findContours(thresh, 1, cv.CHAIN_APPROX_SIMPLE)\n",
    "im2, contours, hierarchy = cv.findContours(thresh,cv.RETR_TREE,cv2.CHAIN_APPROX_SIMPLE)"
   ]
  },
  {
   "cell_type": "code",
   "execution_count": 17,
   "metadata": {},
   "outputs": [],
   "source": [
    "for contour in contours:\n",
    "    area = cv.contourArea(contour)\n",
    "    if area>100000:\n",
    "        contours.remove(contour)"
   ]
  },
  {
   "cell_type": "code",
   "execution_count": 20,
   "metadata": {},
   "outputs": [],
   "source": [
    "cnt = contours[0]\n",
    "#print(cnt)"
   ]
  },
  {
   "cell_type": "code",
   "execution_count": 21,
   "metadata": {},
   "outputs": [
    {
     "name": "stdout",
     "output_type": "stream",
     "text": [
      "No of rectangles 4\n",
      "341 255\n"
     ]
    }
   ],
   "source": [
    "epsilon = 0.02*cv.arcLength(cnt,True)\n",
    "approx = cv.approxPolyDP(cnt,epsilon,True)\n",
    "\n",
    "print ('No of rectangles',len(approx))\n",
    "\n",
    "\n",
    "#finding the centre of the contour\n",
    "M = cv.moments(cnt)\n",
    "\n",
    "cx = int(M['m10']/M['m00'])\n",
    "cy = int(M['m01']/M['m00'])\n",
    "\n",
    "print (cx,cy)"
   ]
  },
  {
   "cell_type": "code",
   "execution_count": 30,
   "metadata": {},
   "outputs": [
    {
     "ename": "SyntaxError",
     "evalue": "invalid syntax (<ipython-input-30-9a805c2e1318>, line 9)",
     "output_type": "error",
     "traceback": [
      "\u001b[0;36m  File \u001b[0;32m\"<ipython-input-30-9a805c2e1318>\"\u001b[0;36m, line \u001b[0;32m9\u001b[0m\n\u001b[0;31m    cv::imshow(\"mask\", mask);\u001b[0m\n\u001b[0m       ^\u001b[0m\n\u001b[0;31mSyntaxError\u001b[0m\u001b[0;31m:\u001b[0m invalid syntax\n"
     ]
    }
   ],
   "source": [
    "cv::Mat input = cv::imread(\"img.png\");\n",
    "\n",
    "cv::Mat gray;\n",
    "cv::cvtColor(input,gray,CV_BGR2GRAY);\n",
    "// since your image has compression artifacts, we have to threshold the image\n",
    "int threshold = 200;\n",
    "cv::Mat mask = gray > threshold;\n",
    "\n",
    "cv::imshow(\"mask\", mask);\n",
    "\n",
    "// extract contours\n",
    "std::vector<std::vector<cv::Point> > contours;\n",
    "cv::findContours(mask, contours, CV_RETR_EXTERNAL, CV_CHAIN_APPROX_NONE);\n",
    "\n",
    "for(int i=0; i<contours.size(); ++i)\n",
    "{\n",
    "    // fit bounding rectangle around contour\n",
    "    cv::RotatedRect rotatedRect = cv::minAreaRect(contours[i]);\n",
    "\n",
    "    // read points and angle\n",
    "    cv::Point2f rect_points[4]; \n",
    "    rotatedRect.points( rect_points );\n",
    "\n",
    "    float  angle = rotatedRect.angle; // angle\n",
    "\n",
    "    // read center of rotated rect\n",
    "    cv::Point2f center = rotatedRect.center; // center\n",
    "\n",
    "    // draw rotated rect\n",
    "    for(unsigned int j=0; j<4; ++j)\n",
    "        cv::line(input, rect_points[j], rect_points[(j+1)%4], cv::Scalar(0,255,0));\n",
    "\n",
    "    // draw center and print text\n",
    "    std::stringstream ss;   ss << angle; // convert float to string\n",
    "    cv::circle(input, center, 5, cv::Scalar(0,255,0)); // draw center\n",
    "    cv::putText(input, ss.str(), center + cv::Point2f(-25,25), cv::FONT_HERSHEY_COMPLEX_SMALL, 1, cv::Scalar(255,0,255)); // print angle\n",
    "}"
   ]
  },
  {
   "cell_type": "code",
   "execution_count": null,
   "metadata": {},
   "outputs": [],
   "source": []
  }
 ],
 "metadata": {
  "kernelspec": {
   "display_name": "Python 3",
   "language": "python",
   "name": "python3"
  },
  "language_info": {
   "codemirror_mode": {
    "name": "ipython",
    "version": 3
   },
   "file_extension": ".py",
   "mimetype": "text/x-python",
   "name": "python",
   "nbconvert_exporter": "python",
   "pygments_lexer": "ipython3",
   "version": "3.7.4"
  }
 },
 "nbformat": 4,
 "nbformat_minor": 2
}
